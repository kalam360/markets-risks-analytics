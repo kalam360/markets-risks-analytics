{
 "cells": [
  {
   "cell_type": "code",
   "execution_count": 1,
   "metadata": {},
   "outputs": [
    {
     "ename": "ModuleNotFoundError",
     "evalue": "No module named 'QuantLib'",
     "output_type": "error",
     "traceback": [
      "\u001b[0;31m---------------------------------------------------------------------------\u001b[0m",
      "\u001b[0;31mModuleNotFoundError\u001b[0m                       Traceback (most recent call last)",
      "Cell \u001b[0;32mIn[1], line 1\u001b[0m\n\u001b[0;32m----> 1\u001b[0m \u001b[39mimport\u001b[39;00m \u001b[39mQuantLib\u001b[39;00m \u001b[39mas\u001b[39;00m \u001b[39mql\u001b[39;00m\n\u001b[1;32m      3\u001b[0m \u001b[39m# Define the evaluation date\u001b[39;00m\n\u001b[1;32m      4\u001b[0m ql\u001b[39m.\u001b[39mSettings\u001b[39m.\u001b[39minstance()\u001b[39m.\u001b[39mevaluationDate \u001b[39m=\u001b[39m ql\u001b[39m.\u001b[39mDate(\u001b[39m28\u001b[39m, \u001b[39m8\u001b[39m, \u001b[39m2023\u001b[39m)\n",
      "\u001b[0;31mModuleNotFoundError\u001b[0m: No module named 'QuantLib'"
     ]
    }
   ],
   "source": [
    "import QuantLib as ql\n",
    "\n",
    "# Define the evaluation date\n",
    "ql.Settings.instance().evaluationDate = ql.Date(28, 8, 2023)\n",
    "\n",
    "# Market quotes\n",
    "libor_fixing = [(ql.Period('3M'), 0.0025)]\n",
    "eurodollar_rates = [(ql.Period('6M'), 0.003), (ql.Period('9M'), 0.0035), (ql.Period('1Y'), 0.004)]\n",
    "swap_rates = [(ql.Period('2Y'), 0.005), (ql.Period('3Y'), 0.006)]\n",
    "\n",
    "# Build helpers\n",
    "calendar = ql.UnitedStates()\n",
    "day_count = ql.Actual360()\n",
    "settlement_days = 2\n",
    "\n",
    "rate_helpers = [ql.DepositRateHelper(ql.QuoteHandle(ql.SimpleQuote(rate)),\n",
    "                                      period,\n",
    "                                      settlement_days,\n",
    "                                      calendar,\n",
    "                                      ql.ModifiedFollowing,\n",
    "                                      False,\n",
    "                                      day_count)\n",
    "                for period, rate in libor_fixing]\n",
    "\n",
    "rate_helpers += [ql.FuturesRateHelper(ql.QuoteHandle(ql.SimpleQuote(100.0 - 100.0 * rate)),\n",
    "                                      ql.Date().advance(calendar, period),\n",
    "                                      settlement_days)\n",
    "                for period, rate in eurodollar_rates]\n",
    "\n",
    "fixed_day_count = ql.Thirty360()\n",
    "fixed_frequency = ql.Annual\n",
    "floating_frequency = ql.Semiannual\n",
    "index = ql.USDLibor(ql.Period(3, ql.Months))\n",
    "\n",
    "rate_helpers += [ql.SwapRateHelper(ql.QuoteHandle(ql.SimpleQuote(rate)),\n",
    "                                   period,\n",
    "                                   calendar,\n",
    "                                   fixed_frequency,\n",
    "                                   ql.ModifiedFollowing,\n",
    "                                   fixed_day_count,\n",
    "                                   index)\n",
    "                for period, rate in swap_rates]\n",
    "\n",
    "# Build the curve\n",
    "yield_curve = ql.PiecewiseLogCubicDiscount(ql.Date(28, 8, 2023), rate_helpers, day_count)\n",
    "\n",
    "# For instance, to get the 1-year zero rate:\n",
    "date_1yr_from_now = ql.Date(28, 8, 2024)\n",
    "zero_rate = yield_curve.zeroRate(date_1yr_from_now, day_count, ql.Continuous).rate()\n",
    "print(f\"1-year zero rate: {zero_rate:.2%}\")\n"
   ]
  },
  {
   "cell_type": "code",
   "execution_count": 2,
   "metadata": {},
   "outputs": [
    {
     "ename": "ModuleNotFoundError",
     "evalue": "No module named 'QuantLib'",
     "output_type": "error",
     "traceback": [
      "\u001b[0;31m---------------------------------------------------------------------------\u001b[0m",
      "\u001b[0;31mModuleNotFoundError\u001b[0m                       Traceback (most recent call last)",
      "Cell \u001b[0;32mIn[2], line 1\u001b[0m\n\u001b[0;32m----> 1\u001b[0m \u001b[39mimport\u001b[39;00m \u001b[39mQuantLib\u001b[39;00m\n",
      "\u001b[0;31mModuleNotFoundError\u001b[0m: No module named 'QuantLib'"
     ]
    }
   ],
   "source": [
    "import QuantLib"
   ]
  },
  {
   "cell_type": "code",
   "execution_count": 3,
   "metadata": {},
   "outputs": [
    {
     "ename": "ModuleNotFoundError",
     "evalue": "No module named 'QuantLib'",
     "output_type": "error",
     "traceback": [
      "\u001b[0;31m---------------------------------------------------------------------------\u001b[0m",
      "\u001b[0;31mModuleNotFoundError\u001b[0m                       Traceback (most recent call last)",
      "Cell \u001b[0;32mIn[3], line 1\u001b[0m\n\u001b[0;32m----> 1\u001b[0m \u001b[39mimport\u001b[39;00m \u001b[39mQuantLib\u001b[39;00m\n",
      "\u001b[0;31mModuleNotFoundError\u001b[0m: No module named 'QuantLib'"
     ]
    }
   ],
   "source": [
    "import QuantLib"
   ]
  },
  {
   "cell_type": "code",
   "execution_count": null,
   "metadata": {},
   "outputs": [],
   "source": []
  }
 ],
 "metadata": {
  "kernelspec": {
   "display_name": "pyside",
   "language": "python",
   "name": "python3"
  },
  "language_info": {
   "codemirror_mode": {
    "name": "ipython",
    "version": 3
   },
   "file_extension": ".py",
   "mimetype": "text/x-python",
   "name": "python",
   "nbconvert_exporter": "python",
   "pygments_lexer": "ipython3",
   "version": "3.10.12"
  },
  "orig_nbformat": 4
 },
 "nbformat": 4,
 "nbformat_minor": 2
}
